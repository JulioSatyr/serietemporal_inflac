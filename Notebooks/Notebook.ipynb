{
 "cells": [
  {
   "cell_type": "markdown",
   "id": "47e4f1ec-85d9-4544-8dde-5b018705cc5f",
   "metadata": {
    "jp-MarkdownHeadingCollapsed": true,
    "tags": []
   },
   "source": [
    "# 1. Introducción"
   ]
  },
  {
   "cell_type": "markdown",
   "id": "49059573-695b-4088-a5c0-4625ab42f23d",
   "metadata": {},
   "source": [
    "El primer paso es hacer cambios en el dataset original del INDEC para realizar un EDA posteriormente.\n",
    "\n",
    "El dataset original de la página del INDEC es un archivo .xls de una versión vieja del programa.\n",
    "\n",
    "Hice pequeños cambios de diseño con Excel. Como último paso genero un archivo unico .csv por cada hoja para mi conveniencia.\n",
    "\n",
    "***Fuente de los datasets del proyecto:***\n",
    "\n",
    "https://www.indec.gob.ar/indec/web/Nivel4-Tema-3-5-31\n",
    "\n",
    "https://www.indec.gob.ar/indec/web/Institucional-Indec-Codgeo\n",
    "\n",
    "https://www.datos.gob.ar/series/api/series/?ids=168.1_T_CAMBIOR_D_0_0_26"
   ]
  },
  {
   "cell_type": "code",
   "execution_count": null,
   "id": "e8efab2d-e9c0-4a0f-860b-4b451f70371a",
   "metadata": {},
   "outputs": [],
   "source": [
    "# Importo las librerias necesarias para esta parte.\n",
    "import pandas as pd # Para usar DataFrames."
   ]
  },
  {
   "cell_type": "code",
   "execution_count": null,
   "id": "8104b9e3-5628-4567-9bb1-a5563d76a350",
   "metadata": {},
   "outputs": [],
   "source": [
    "# Leo todas las hojas del archivo .xlsx y las convierto en DataFrames. (Todas las hojas del archivo .xlsx tienen el mismo formato de columnas y filas)\n",
    "df_var_mensual = pd.read_excel('../Data/Dataset_IPC_INDEC.xlsx', sheet_name = 'Variacion_mensual_IPC')\n",
    "df_var_interanual = pd.read_excel('../Data/Dataset_IPC_INDEC.xlsx', sheet_name = 'Variacion_interanual_IPC')\n",
    "df_indices = pd.read_excel('../Data/Dataset_IPC_INDEC.xlsx', sheet_name = 'Indices_IPC')"
   ]
  },
  {
   "cell_type": "code",
   "execution_count": null,
   "id": "c3566b81-6d6c-4dbe-a659-71d197890475",
   "metadata": {},
   "outputs": [],
   "source": [
    "# Veo las primeras filas del DataFrame.\n",
    "df_var_mensual.head()"
   ]
  },
  {
   "cell_type": "code",
   "execution_count": null,
   "id": "4930381e-5ae3-4d93-8786-ad3482f915a4",
   "metadata": {},
   "outputs": [],
   "source": [
    "# Veo la info del DataFrame.\n",
    "df_var_mensual.info()"
   ]
  },
  {
   "cell_type": "code",
   "execution_count": null,
   "id": "ea207844-673e-4e73-9400-f9f4a5952562",
   "metadata": {},
   "outputs": [],
   "source": [
    "# En esta celda voy a trasponer las columnas de los meses para tener solo una columna nueva llamada 'Fecha' con todas las fechas en filas,\n",
    "# clasificadas por 'Region' y 'Division_IPC'.\n",
    "\n",
    "# Lista de los 3 DataFrames originales que despues voy a guardar en archivos .csv.\n",
    "dataframes = [df_var_mensual, df_var_interanual, df_indices]\n",
    "\n",
    "# Lista para almacenar los resultados de la trasposicion.\n",
    "df_traspuestos = []\n",
    "\n",
    "# Itero sobre los 3 DataFrames y aplico la funcion melt a cada uno.\n",
    "for df in dataframes:\n",
    "    columnas_meses = df.columns[2:]  # Lista de las columnas de meses.\n",
    "    df_traspuesto = df.melt(id_vars=['Region', 'Division_IPC'], value_vars=columnas_meses, var_name='Fecha', value_name='Valor_IPC')\n",
    "    df_traspuestos.append(df_traspuesto)"
   ]
  },
  {
   "cell_type": "code",
   "execution_count": null,
   "id": "b75c96b5-1f17-4e9c-9365-f91cafec7b49",
   "metadata": {},
   "outputs": [],
   "source": [
    "# Asigno los nuevos DataFrames.\n",
    "df_var_mensual_csv = df_traspuestos[0]\n",
    "df_var_interanual_csv = df_traspuestos[1]\n",
    "df_indices_csv = df_traspuestos[2]"
   ]
  },
  {
   "cell_type": "code",
   "execution_count": null,
   "id": "5be5e8b6-057d-4a13-b487-24de0958966d",
   "metadata": {},
   "outputs": [],
   "source": [
    "# Veo si quedaron las columnas y las filas del modo que necesito.\n",
    "df_var_mensual_csv.head()"
   ]
  },
  {
   "cell_type": "code",
   "execution_count": null,
   "id": "b258d7dc-1c6d-44c9-9af9-4c8a2ea447f1",
   "metadata": {},
   "outputs": [],
   "source": [
    "# Veo la informacion general de los nuevos DataFrames. (Para verificar si los tipos de datos de las columnas estan bien)\n",
    "print('Info del \"df_var_mensual_csv\":\\n')\n",
    "df_var_mensual_csv.info()\n",
    "\n",
    "print('\\nInfo del \"df_var_interanual_csv\":\\n')\n",
    "df_var_interanual_csv.info()\n",
    "\n",
    "print('\\nInfo del \"df_indices_csv\":\\n')\n",
    "df_indices_csv.info()"
   ]
  },
  {
   "cell_type": "code",
   "execution_count": null,
   "id": "b8b54b66-192f-4be9-9539-ab4e72c14a45",
   "metadata": {},
   "outputs": [],
   "source": [
    "# Guardo los 3 DataFrames nuevos en archivos .csv.\n",
    "df_var_mensual_csv.to_csv('../Data/Variacion_mensual_IPC.csv', index = False)\n",
    "df_var_interanual_csv.to_csv('../Data/Variacion_interanual_IPC.csv', index = False)\n",
    "df_indices_csv.to_csv('../Data/Indices_IPC.csv', index = False)"
   ]
  },
  {
   "cell_type": "markdown",
   "id": "c286d356-da30-45a0-af55-0ef9527058c1",
   "metadata": {},
   "source": [
    "**Nota:** Todas estas celdas de código ya fueron ejecutadas y los archivos .csv nuevos estan guardados en la carpeta 'Data' del proyecto."
   ]
  },
  {
   "cell_type": "markdown",
   "id": "28450eca-0bb3-458f-8e80-44fa71118827",
   "metadata": {
    "tags": []
   },
   "source": [
    "# 2. EDA - Exploratory Data Analysis"
   ]
  },
  {
   "cell_type": "code",
   "execution_count": null,
   "id": "9361eb5f-ef34-41fb-9fdd-546ae514251f",
   "metadata": {},
   "outputs": [],
   "source": [
    "# Importo las librerias necesarias para el proyecto.\n",
    "import pandas as pd # Para usar DataFrames.\n",
    "import numpy as np # Para analisis de numeros.\n",
    "from scipy import stats # Para analisis estadistico.\n",
    "\n",
    "# Para graficar.\n",
    "import plotly.graph_objects as go\n",
    "import plotly.express as px\n",
    "import seaborn as sb\n",
    "import itertools\n",
    "from matplotlib import rcParams\n",
    "import matplotlib.pyplot as plt\n",
    "%matplotlib inline\n",
    "\n",
    "# Para modelos automaticos.\n",
    "import statsmodels.api as sm\n",
    "from statsmodels.tsa.stattools import adfuller\n",
    "from statsmodels.graphics.tsaplots import plot_acf, plot_pacf\n",
    "from statsmodels.tsa.arima.model import ARIMA\n",
    "from statsmodels.tsa.statespace.sarimax import SARIMAX\n",
    "\n",
    "from sklearn.model_selection import train_test_split\n",
    "\n",
    "# Para analisis de datos geoespaciales.\n",
    "import geopandas as gpd\n",
    "\n",
    "# Otras librerias.\n",
    "import warnings\n",
    "warnings.filterwarnings(\"ignore\") # Ignoro las advertencias."
   ]
  },
  {
   "cell_type": "code",
   "execution_count": null,
   "id": "c90f4837-1689-4d97-8189-b2be9ab20492",
   "metadata": {},
   "outputs": [],
   "source": [
    "# Leo todas las hojas del archivo excel y las convierto en DataFrames.\n",
    "df_var_mensual = pd.read_csv('../Data/Variacion_mensual_IPC.csv', parse_dates=['Fecha'])\n",
    "df_var_interanual = pd.read_csv('../Data/Variacion_interanual_IPC.csv', parse_dates=['Fecha'])\n",
    "df_indices = pd.read_csv('../Data/Indices_IPC.csv', parse_dates=['Fecha'])"
   ]
  },
  {
   "cell_type": "code",
   "execution_count": null,
   "id": "2aa5c4a1-71b4-4ada-99c5-94261518b780",
   "metadata": {},
   "outputs": [],
   "source": [
    "# Veo las primeras filas del DataFrame.\n",
    "df_var_mensual.head()"
   ]
  },
  {
   "cell_type": "code",
   "execution_count": null,
   "id": "e2803421-f727-40fe-a06e-3e7323c5752b",
   "metadata": {},
   "outputs": [],
   "source": [
    "# Veo la info del DataFrame.\n",
    "df_var_mensual.info()"
   ]
  },
  {
   "cell_type": "code",
   "execution_count": null,
   "id": "13b1ee57-becc-4d78-8117-300ef5885726",
   "metadata": {},
   "outputs": [],
   "source": [
    "# Obtengo los valores unicos de la columna 'Region'.\n",
    "regiones = df_var_mensual['Region'].unique()\n",
    "\n",
    "# Imprimo los valores unicos por pantalla.\n",
    "print('Regiones estadísticas del INDEC:\\n')\n",
    "for valor_reg in regiones:\n",
    "    print('-', valor_reg)\n",
    "\n",
    "# Obtengo los valores unicos de la columna 'Division_IPC'.\n",
    "divisiones = df_var_mensual['Division_IPC'].unique()\n",
    "\n",
    "# Imprimo los valores unicos por pantalla.\n",
    "print('\\nDivisiones del IPC:\\n')\n",
    "for valor_div in divisiones:\n",
    "    print('-', valor_div)"
   ]
  },
  {
   "cell_type": "code",
   "execution_count": null,
   "id": "0511ebaa-ea46-4831-ac7a-dbecf4d8d04b",
   "metadata": {},
   "outputs": [],
   "source": [
    "# Filtro los datos para los ultimos 12 meses en todo el pais de la division general del IPC.\n",
    "df_graf1 = df_var_mensual[(df_var_mensual['Fecha'] >= '2022-06-01') & (df_var_mensual['Region'] == 'Nacional') & (df_var_mensual['Division_IPC'] != 'Nivel general')]\n",
    "\n",
    "# Encuentro la division del IPC mas alta para cada mes.\n",
    "df_max_division = df_graf1.groupby(df_graf1['Fecha'].dt.to_period('M')).apply(lambda x: x.loc[x['Valor_IPC'].idxmax()])\n",
    "\n",
    "# Obtengo la lista de divisiones unicas del DataFrame 'df_max_division'.\n",
    "divisiones_unicas = df_max_division['Division_IPC'].unique()\n",
    "\n",
    "# Creo un diccionario para asignar colores a cada division del IPC.\n",
    "colores = dict(zip(divisiones_unicas, ['blue', 'red', 'yellow', 'green', 'orange', 'purple', 'grey', 'black']))\n",
    "\n",
    "# Creo la figura del grafico.\n",
    "fig = go.Figure()\n",
    "\n",
    "# Itero sobre cada division.\n",
    "for division in divisiones_unicas:\n",
    "    # Filtro el DataFrame para obtener solo las filas correspondientes a la division actual.\n",
    "    df_division = df_max_division[df_max_division['Division_IPC'] == division]\n",
    "    \n",
    "    # Obtengo el color correspondiente a la division.\n",
    "    color = colores[division]\n",
    "    \n",
    "    # Agrego una barra para cada division.\n",
    "    fig.add_trace(go.Bar(x=df_division['Fecha'],\n",
    "                         y=df_division['Valor_IPC'],\n",
    "                         marker_color=color,\n",
    "                         text=df_division['Valor_IPC'],\n",
    "                         textposition='auto',\n",
    "                         hovertemplate='%{y:.1f}',\n",
    "                         hoverlabel=dict(bgcolor='white'),\n",
    "                         name=division))\n",
    "\n",
    "# Configuro el disenio del grafico.\n",
    "fig.update_layout(title='División del IPC con mayor variación mensual - Total Nacional',\n",
    "                  xaxis=dict(title='', tickformat='%b %y', dtick='M1'),\n",
    "                  yaxis=dict(title='Variación mensual'),\n",
    "                  hovermode='x unified',\n",
    "                  showlegend=True,\n",
    "                  height=600,\n",
    "                  width=1090)\n",
    "\n",
    "# Muestro el grafico interactivo.\n",
    "fig.show()"
   ]
  },
  {
   "cell_type": "code",
   "execution_count": null,
   "id": "dfc78a30-96da-493b-8f1f-9dbdcd5d7910",
   "metadata": {},
   "outputs": [],
   "source": [
    "# Filtro los datos para ver los de todo el pais de la division general del IPC.\n",
    "df_graf2_a = df_var_mensual[(df_var_mensual['Region'] == 'Nacional') & (df_var_mensual['Division_IPC'] == 'Nivel general')]\n",
    "\n",
    "# Filtro los datos 12 meses (1 año) para atras desde el ultimo dato mensual.\n",
    "df_graf2_a = df_graf2_a[(df_graf2_a['Fecha'] >= '2022-06-01') & (df_graf2_a['Fecha'] <= '2023-05-31')]\n",
    "\n",
    "# Filtro los datos para ver los de todo el pais de la division general del IPC.\n",
    "df_graf2_b = df_var_interanual[(df_var_interanual['Region'] == 'Nacional') & (df_var_interanual['Division_IPC'] == 'Nivel general')]\n",
    "\n",
    "# Filtro los datos 12 meses (1 año) para atras desde el ultimo dato mensual.\n",
    "df_graf2_b = df_graf2_b[(df_graf2_b['Fecha'] >= '2022-06-01') & (df_graf2_b['Fecha'] <= '2023-05-31')]\n",
    "\n",
    "# Creo la figura del grafico.\n",
    "fig = go.Figure()\n",
    "\n",
    "# Agrego la curva de variacion mensual al grafico.\n",
    "fig.add_trace(go.Scatter(x=df_graf2_a['Fecha'],\n",
    "                         y=df_graf2_a['Valor_IPC'],\n",
    "                         mode='lines+markers',\n",
    "                         line=dict(color='steelblue'),\n",
    "                         text=df_graf2_a['Valor_IPC'],\n",
    "                         textposition='top center',\n",
    "                         hovertemplate='%{y:.1f}',\n",
    "                         hoverlabel=dict(bgcolor='white'),\n",
    "                         name='Variación mensual'))\n",
    "\n",
    "# Agrego la curva de variacion interanual al grafico.\n",
    "fig.add_trace(go.Scatter(x=df_graf2_b['Fecha'],\n",
    "                         y=df_graf2_b['Valor_IPC'],\n",
    "                         mode='lines+markers',\n",
    "                         line=dict(color='red'),\n",
    "                         text=df_graf2_b['Valor_IPC'],\n",
    "                         textposition='top center',\n",
    "                         hovertemplate='%{y:.1f}',\n",
    "                         hoverlabel=dict(bgcolor='white'),\n",
    "                         name='Variación interanual',\n",
    "                         yaxis='y2'))\n",
    "\n",
    "# Configuro el disenio del grafico.\n",
    "fig.update_layout(title='Variación mensual e interanual del Nivel general del IPC - Total Nacional',\n",
    "                  xaxis=dict(title='', tickformat='%b %y', dtick='M1'),\n",
    "                  yaxis=dict(title='Variación mensual'),\n",
    "                  yaxis2=dict(title='Variación interanual', overlaying='y', side='right'),\n",
    "                  hovermode='x unified',\n",
    "                  showlegend=True,\n",
    "                  height=600,\n",
    "                  width=1090)\n",
    "\n",
    "# Muestro el grafico interactivo.\n",
    "fig.show()"
   ]
  },
  {
   "cell_type": "code",
   "execution_count": null,
   "id": "806361c5-e7a5-490b-936f-da8c44270472",
   "metadata": {},
   "outputs": [],
   "source": [
    "# Filtro los datos para el total del pais y la division general del IPC.\n",
    "df_graf3_a = df_var_mensual[(df_var_mensual['Region'] == 'Nacional') & (df_var_mensual['Division_IPC'] == 'Nivel general')]\n",
    "\n",
    "# Filtro los datos para el total del pais y la division general del IPC.\n",
    "df_graf3_b = df_indices[(df_indices['Region'] == 'Nacional') & (df_indices['Division_IPC'] == 'Nivel general')]\n",
    "\n",
    "# Creo la figura del grafico.\n",
    "fig = go.Figure()\n",
    "\n",
    "# Agrego la curva de variacion mensual al grafico.\n",
    "fig.add_trace(go.Scatter(x=df_graf3_a['Fecha'],\n",
    "                         y=df_graf3_a['Valor_IPC'],\n",
    "                         line=dict(color='steelblue'),\n",
    "                         text=df_graf3_a['Valor_IPC'],\n",
    "                         textposition='top center',\n",
    "                         hovertemplate='%{y:.1f}',\n",
    "                         hoverlabel=dict(bgcolor='white'),\n",
    "                         name='Variación mensual'))\n",
    "\n",
    "# Agrego la curva de indice del IPC al grafico.\n",
    "fig.add_trace(go.Scatter(x=df_graf3_b['Fecha'],\n",
    "                         y=df_graf3_b['Valor_IPC'],\n",
    "                         line=dict(color='red'),\n",
    "                         text=df_graf3_b['Valor_IPC'],\n",
    "                         textposition='top center',\n",
    "                         hovertemplate='%{y:.1f}',\n",
    "                         hoverlabel=dict(bgcolor='white'),\n",
    "                         name='Índice acumulado',\n",
    "                         yaxis='y2'))\n",
    "\n",
    "# Configuro el disenio del grafico.\n",
    "fig.update_layout(title='Variación mensual e Índice acumulado del Nivel general del IPC - Total Nacional',\n",
    "                  xaxis=dict(title='', tickformat='%b %y', dtick='M12'),\n",
    "                  yaxis=dict(title='Variación mensual'),\n",
    "                  yaxis2=dict(title='Índice acumulado', overlaying='y', side='right'),\n",
    "                  hovermode='x unified',\n",
    "                  showlegend=True,\n",
    "                  height=600,\n",
    "                  width=1090)\n",
    "\n",
    "# Muestro el grafico interactivo.\n",
    "fig.show()"
   ]
  },
  {
   "cell_type": "markdown",
   "id": "e8512d65-834a-4115-821a-7e8cdc8ce0d4",
   "metadata": {
    "tags": []
   },
   "source": [
    "# 3. Time Series Analysis & Forecasting"
   ]
  },
  {
   "cell_type": "code",
   "execution_count": null,
   "id": "c132bab2-098b-422d-8e26-0f9a82e9b8a1",
   "metadata": {},
   "outputs": [],
   "source": [
    "# Filtro los datos para el total del pais y la division general del IPC.\n",
    "df_modelos = df_var_mensual[(df_var_mensual['Region'] == 'Nacional') & (df_var_mensual['Division_IPC'] == 'Nivel general')]\n",
    "\n",
    "# Elimino las columnas 'Region' y 'Division_IPC' del DataFrame para quedarme con las necesarias ('Fecha' y 'Valor_IPC').\n",
    "df_modelos = df_modelos.drop(['Region', 'Division_IPC'], axis=1)\n",
    "\n",
    "# Pongo la columna 'Fecha' como el nuevo indice del DataFrame.\n",
    "df_modelos.set_index(['Fecha'],inplace=True)\n",
    "\n",
    "df_modelos.head()"
   ]
  },
  {
   "cell_type": "code",
   "execution_count": null,
   "id": "85b4eead-323a-41c7-9561-0f580b651781",
   "metadata": {},
   "outputs": [],
   "source": [
    "# Verifico si hay nulos en el DataFrame.\n",
    "print(df_modelos.isna().sum())"
   ]
  },
  {
   "cell_type": "code",
   "execution_count": null,
   "id": "072ee1cc-3c36-4e23-9e24-d322a66d6ff6",
   "metadata": {},
   "outputs": [],
   "source": [
    "# Divido el DataFrame original en un train y un test.\n",
    "df_train, df_test = train_test_split(df_modelos, test_size=0.15, shuffle=False)\n",
    "\n",
    "# Vemos los últimos datos del set de entrenamiento:\n",
    "print('Últimos datos del set de entrenamiento:\\n')\n",
    "print(df_train.tail())\n",
    "\n",
    "# Vemos los primeros datos del set de testeo:\n",
    "print('\\nPrimeros datos del set de testeo:\\n')\n",
    "print(df_test.head())"
   ]
  },
  {
   "cell_type": "code",
   "execution_count": null,
   "id": "3ebe40f0-cb1a-47fe-9e5b-abe34e6e0c86",
   "metadata": {},
   "outputs": [],
   "source": [
    "# Creo una figura con subplots.\n",
    "fig, axes = plt.subplots(1, 2,figsize=(14,5))\n",
    "\n",
    "# Grafico de la serie original en el primer subplot.\n",
    "axes[0].plot(df_train.Valor_IPC)\n",
    "axes[0].set_title('Serie original')\n",
    "\n",
    "# Grafico de la ACF en el segundo subplot.\n",
    "plot_acf(df_train.Valor_IPC, ax=axes[1])\n",
    "\n",
    "plt.show()"
   ]
  },
  {
   "cell_type": "markdown",
   "id": "26bd3bd0-b390-4b0f-af78-10899cda53b7",
   "metadata": {},
   "source": [
    "Desciende a cero rápidamente, por lo tanto la serie es estacionaria."
   ]
  },
  {
   "cell_type": "code",
   "execution_count": null,
   "id": "80b672fa-7075-4402-a1d1-104a7b5610ca",
   "metadata": {},
   "outputs": [],
   "source": [
    "# Realizo el ADF Test en la serie de datos 'df.Valor_IPC' para verificar si realmente es estacionaria.\n",
    "result = adfuller(df_train['Valor_IPC'])\n",
    "\n",
    "# Imprimo la estadistica ADF.\n",
    "print('ADF Statistic:', result[0].round(4))\n",
    "\n",
    "# Imprimo el p-value.\n",
    "print('p-value:', result[1].round(4))"
   ]
  },
  {
   "cell_type": "markdown",
   "id": "5689e97a-3703-4a76-be55-e5d34be6931d",
   "metadata": {},
   "source": [
    "Se observa un p-value <= 0.05 para la serie. Por lo tanto, es estacionaria.\n",
    "\n",
    "No hay que realizar ninguna diferenciación, entonces $d = 0$"
   ]
  },
  {
   "cell_type": "code",
   "execution_count": null,
   "id": "e3fd1f40-fc50-4e32-a353-f5a633a54b65",
   "metadata": {},
   "outputs": [],
   "source": [
    "# Creo una figura con subplots.\n",
    "fig, axes = plt.subplots(1, 2, figsize=(14, 5))\n",
    "\n",
    "# Grafico de la ACF en el primer subplot.\n",
    "plot_acf(df_train, ax=axes[0], title='ACF')\n",
    "\n",
    "# Grafico de la PACF en el segundo subplot.\n",
    "plot_pacf(df_train, ax=axes[1], title='PACF')\n",
    "\n",
    "# Muestro el grafico.\n",
    "plt.show()"
   ]
  },
  {
   "cell_type": "markdown",
   "id": "bfe6e52d-6235-4ee7-901d-658541375578",
   "metadata": {},
   "source": [
    "Este gráfico para buscar los valores de p y q es muy subjetivo.\n",
    "\n",
    "A continuación voy a realizar una iteración en un rango de valores para encontrar los mejores valores con mas precisión."
   ]
  },
  {
   "cell_type": "markdown",
   "id": "cc8eba2c-179f-43f6-93cd-b7daf000d97c",
   "metadata": {
    "tags": []
   },
   "source": [
    "### Modelo ARIMA"
   ]
  },
  {
   "cell_type": "code",
   "execution_count": null,
   "id": "de43b9ea-7923-4be5-81a7-bbfe9de18133",
   "metadata": {},
   "outputs": [],
   "source": [
    "# Defino el rango de valores para p, d y q.\n",
    "p_values = range(0,7)\n",
    "d_values = [0]\n",
    "q_values = range(0,7)\n",
    "\n",
    "# Genero todas las combinaciones posibles de valores.\n",
    "parameter_combinations = list(itertools.product(p_values, d_values, q_values))\n",
    "\n",
    "# Inicializo variables para almacenar los resultados.\n",
    "best_aic = float('inf')\n",
    "best_params = None\n",
    "\n",
    "# Itero sobre todas las combinaciones de valores.\n",
    "for params in parameter_combinations:\n",
    "    p, d, q = params\n",
    "    model = ARIMA(df_train['Valor_IPC'], order=(p, d, q))\n",
    "    result = model.fit()\n",
    "    aic = result.aic\n",
    "    \n",
    "    # Verifico si el AIC actual es el mejor hasta ahora.\n",
    "    if aic < best_aic:\n",
    "        best_aic = aic\n",
    "        best_params = params\n",
    "        \n",
    "    # Imprimo el progreso en porcentaje.\n",
    "    print(round((parameter_combinations.index(params) + 1) / len(parameter_combinations) * 100, 1), '%', end='\\r')\n",
    "\n",
    "# Imprimo el mejor valor de AIC y los correspondientes valores de p, d y q.\n",
    "print(f\"El mejor valor de AIC: {best_aic}\")\n",
    "print(f\"Mejores parámetros: p={best_params[0]}, d={best_params[1]}, q={best_params[2]}\")"
   ]
  },
  {
   "cell_type": "code",
   "execution_count": null,
   "id": "5f204e74-8139-4c67-81e6-10915300cb65",
   "metadata": {},
   "outputs": [],
   "source": [
    "# Creo el modelo ARIMA utilizando los mejores parametros encontrados.\n",
    "model_ARIMA = ARIMA(df_train, order=(best_params[0], best_params[1], best_params[2]))\n",
    "\n",
    "# Ajusto el modelo ARIMA a los datos de entrenamiento.\n",
    "result_ARIMA = model_ARIMA.fit()\n",
    "\n",
    "# Imprimo un resumen del modelo ajustado.\n",
    "print(result_ARIMA.summary())"
   ]
  },
  {
   "cell_type": "code",
   "execution_count": null,
   "id": "77d10229-8d3e-45bd-8d14-158b2f48ea77",
   "metadata": {},
   "outputs": [],
   "source": [
    "# Creo un DataFrame con los residuales del modelo ARIMA.\n",
    "residuals_ARIMA = pd.DataFrame(result_ARIMA.resid)\n",
    "\n",
    "# Creo una figura para mostrar multiples graficos.\n",
    "fig, axes = plt.subplots(2, 2, figsize=(14, 10))\n",
    "\n",
    "# Grafico los residuales.\n",
    "residuals_ARIMA.plot(title=\"Residuals\", ax=axes[0, 0])\n",
    "\n",
    "# Grafico la densidad de los residuales.\n",
    "residuals_ARIMA.plot(kind='kde', title='Density', ax=axes[0, 1])\n",
    "\n",
    "# Grafico la (ACF) de los residuales.\n",
    "plot_acf(residuals_ARIMA, ax=axes[1, 0], title='ACF')\n",
    "\n",
    "# Grafico la (PACF) de los residuales.\n",
    "plot_pacf(residuals_ARIMA, ax=axes[1, 1], title='PACF')\n",
    "\n",
    "# Muestro la figura con los graficos de los residuales.\n",
    "plt.show()"
   ]
  },
  {
   "cell_type": "code",
   "execution_count": null,
   "id": "a51b042d-6964-485c-962d-55895ba0e353",
   "metadata": {},
   "outputs": [],
   "source": [
    "# Realizo predicciones utilizando el modelo ARIMA ajustado.\n",
    "prediction_ARIMA = result_ARIMA.forecast(len(df_test['Valor_IPC']))\n",
    "\n",
    "prediction_ARIMA"
   ]
  },
  {
   "cell_type": "code",
   "execution_count": null,
   "id": "95d53b3e-a263-43ea-8782-22198174d42c",
   "metadata": {},
   "outputs": [],
   "source": [
    "# Creo la figura del grafico.\n",
    "fig = go.Figure()\n",
    "\n",
    "# Agrego una linea de los datos originales al grafico.\n",
    "fig.add_trace(go.Scatter(x=df_modelos.index, y=df_modelos['Valor_IPC'], mode='lines', name='Datos originales', line=dict(color='steelblue')))\n",
    "\n",
    "# Agrego una linea de la prediccion al grafico.\n",
    "fig.add_trace(go.Scatter(x=df_test.index, y=prediction_ARIMA, mode='lines', name='Predicción', line=dict(color='green')))\n",
    "\n",
    "# Actualizo el disenio del grafico.\n",
    "fig.update_layout(title='Variación mensual del Nivel general del IPC - Total Nacional', xaxis_title='', yaxis_title='Variación mensual')\n",
    "\n",
    "# Muestro el grafico interactivo.\n",
    "fig.show()"
   ]
  },
  {
   "cell_type": "markdown",
   "id": "729c0cf5-5bf4-4edc-83f8-1a3fe5caebb5",
   "metadata": {},
   "source": [
    "### Modelo SARIMA"
   ]
  },
  {
   "cell_type": "code",
   "execution_count": null,
   "id": "b9e0aafc-f0b9-46de-884d-17e24c4f5eb8",
   "metadata": {},
   "outputs": [],
   "source": [
    "# Defino el rango de valores para p, d, q, P, D, Q y s.\n",
    "p_values = range(0, 3)\n",
    "d_values = [0]\n",
    "q_values = range(0, 3)\n",
    "P_values = range(0, 3)\n",
    "D_values = range(0, 2)\n",
    "Q_values = range(0, 3)\n",
    "s_values = [12]\n",
    "\n",
    "# Genero todas las combinaciones posibles de valores.\n",
    "parameter_combinations = list(itertools.product(p_values, d_values, q_values, P_values, D_values, Q_values, s_values))\n",
    "\n",
    "# Inicializo variables para almacenar los resultados.\n",
    "best_aic = float('inf')\n",
    "best_params = None\n",
    "\n",
    "# Itero sobre todas las combinaciones de valores.\n",
    "for params in parameter_combinations:\n",
    "    p, d, q, P, D, Q, s = params\n",
    "    model = SARIMAX(df_train['Valor_IPC'], order=(p, d, q), seasonal_order=(P, D, Q, s))\n",
    "    result = model.fit()\n",
    "    aic = result.aic\n",
    "    \n",
    "    # Verifico si el AIC actual es el mejor hasta ahora.\n",
    "    if aic < best_aic:\n",
    "        best_aic = aic\n",
    "        best_params = params\n",
    "        \n",
    "    # Imprimo el progreso en porcentaje.\n",
    "    print(round((parameter_combinations.index(params) + 1) / len(parameter_combinations) * 100, 1), '%', end='\\r')\n",
    "\n",
    "# Imprimo el mejor valor de AIC y los correspondientes valores de p, d, q, P, D, Q y s.\n",
    "print(f\"El mejor valor de AIC: {best_aic}\")\n",
    "print(f\"Mejores parámetros: p={best_params[0]}, d={best_params[1]}, q={best_params[2]}, P={best_params[3]}, D={best_params[4]}, Q={best_params[5]}, s={best_params[6]}\")"
   ]
  },
  {
   "cell_type": "code",
   "execution_count": null,
   "id": "4a93b45c-4123-4ffe-89c1-7f87f82043ab",
   "metadata": {},
   "outputs": [],
   "source": [
    "# Creo el modelo SARIMA utilizando los mejores parametros encontrados.\n",
    "model_SARIMA = SARIMAX(df_train, order=(best_params[0], best_params[1], best_params[2]), seasonal_order=(best_params[3], best_params[4], best_params[5], best_params[6]))\n",
    "\n",
    "# Ajusto el modelo SARIMA a los datos de entrenamiento.\n",
    "result_SARIMA = model_SARIMA.fit()\n",
    "\n",
    "# Imprimo un resumen del modelo ajustado.\n",
    "print(result_SARIMA.summary())"
   ]
  },
  {
   "cell_type": "code",
   "execution_count": null,
   "id": "7b43dc17-1b80-46de-91bb-e13a97c3d981",
   "metadata": {},
   "outputs": [],
   "source": [
    "# Creo un DataFrame con los residuos del modelo SARIMA.\n",
    "residuals_SARIMA = pd.DataFrame(result_SARIMA.resid)\n",
    "\n",
    "# Creo una figura para mostrar multiples graficos.\n",
    "fig, axes = plt.subplots(2, 2, figsize=(14, 10))\n",
    "\n",
    "# Grafico los residuos.\n",
    "residuals_SARIMA.plot(title=\"Residuals\", ax=axes[0, 0])\n",
    "\n",
    "# Grafico la densidad de los residuos.\n",
    "residuals_SARIMA.plot(kind='kde', title='Density', ax=axes[0, 1])\n",
    "\n",
    "# Grafico la (ACF) de los residuos.\n",
    "plot_acf(residuals_SARIMA, ax=axes[1, 0], title='ACF')\n",
    "\n",
    "# Grafico la (PACF) de los residuo.\n",
    "plot_pacf(residuals_SARIMA, ax=axes[1, 1], title='PACF')\n",
    "\n",
    "# Muestro la figura con los graficos de los residuos.\n",
    "plt.show()"
   ]
  },
  {
   "cell_type": "code",
   "execution_count": null,
   "id": "7aa3a4eb-1d5e-43a5-86dc-505394ebc0f2",
   "metadata": {},
   "outputs": [],
   "source": [
    "# Realizo predicciones utilizando el modelo SARIMA ajustado.\n",
    "prediction_SARIMA = result_SARIMA.forecast(len(df_test['Valor_IPC']))\n",
    "\n",
    "prediction_SARIMA"
   ]
  },
  {
   "cell_type": "code",
   "execution_count": null,
   "id": "b7936351-00c2-445b-8ae9-7e3807330245",
   "metadata": {},
   "outputs": [],
   "source": [
    "# Creo la figura del grafico.\n",
    "fig = go.Figure()\n",
    "\n",
    "# Agrego una linea de los datos originales al grafico.\n",
    "fig.add_trace(go.Scatter(x=df_modelos.index, y=df_modelos['Valor_IPC'], mode='lines', name='Datos originales', line=dict(color='steelblue')))\n",
    "\n",
    "# Agrego una linea de la prediccion al grafico.\n",
    "fig.add_trace(go.Scatter(x=df_test.index, y=prediction_SARIMA, mode='lines', name='Predicción', line=dict(color='green')))\n",
    "\n",
    "# Actualizo el disenio del grafico.\n",
    "fig.update_layout(title='Variación mensual del Nivel general del IPC - Total Nacional', xaxis_title='', yaxis_title='Variación mensual')\n",
    "\n",
    "# Muestro el grafico interactivo.\n",
    "fig.show()"
   ]
  },
  {
   "cell_type": "markdown",
   "id": "5b9c4eb3-a87d-4dfe-80ce-94626ea35041",
   "metadata": {},
   "source": [
    "### Modelo SARIMAX"
   ]
  },
  {
   "cell_type": "code",
   "execution_count": null,
   "id": "08c9ea10-5c32-43a2-b849-089a71eb50bd",
   "metadata": {},
   "outputs": [],
   "source": [
    "# Leo el archivo 'Dolar_BNA' y lo convierto en un DataFrame.\n",
    "df_dolar = pd.read_csv('../Data/Dolar_BNA.csv', parse_dates=['indice_tiempo'])\n",
    "\n",
    "# Veo las primeras filas del DataFrame.\n",
    "df_dolar.head()"
   ]
  },
  {
   "cell_type": "code",
   "execution_count": null,
   "id": "7d4f1351-fd52-41d6-9f67-e7f680186057",
   "metadata": {},
   "outputs": [],
   "source": [
    "# Veo la info del DataFrame.\n",
    "df_dolar.info()"
   ]
  },
  {
   "cell_type": "code",
   "execution_count": null,
   "id": "5c7159d2-48c9-4d22-ab83-f328f5453a53",
   "metadata": {},
   "outputs": [],
   "source": [
    "# Selecciono las columnas de interes.\n",
    "df_dolar = df_dolar[['indice_tiempo','tipo_cambio_bna_vendedor']]\n",
    "\n",
    "# Cambio los nombres de las columnas.\n",
    "df_dolar.columns = ['Fecha','Dolar_BNA']\n",
    "\n",
    "df_dolar.info()"
   ]
  },
  {
   "cell_type": "code",
   "execution_count": null,
   "id": "e6872cdc-fdf7-47ae-bc53-52c5197dc901",
   "metadata": {},
   "outputs": [],
   "source": [
    "# Uno el DataFrame de los modelos con el de Dolar BNA, por fecha.\n",
    "df_unido = pd.merge(df_modelos, df_dolar, on='Fecha')\n",
    "\n",
    "# Pongo la columna 'Fecha' como el nuevo indice del DataFrame.\n",
    "df_unido.set_index(['Fecha'],inplace=True)\n",
    "\n",
    "df_unido.head()"
   ]
  },
  {
   "cell_type": "code",
   "execution_count": null,
   "id": "ba4b6a07-86fc-43b7-9cba-bd4b4abd666e",
   "metadata": {},
   "outputs": [],
   "source": [
    "# Verifico si hay nulos en el DataFrame.\n",
    "df_unido.isna().sum()"
   ]
  },
  {
   "cell_type": "code",
   "execution_count": null,
   "id": "b1ee16a1-174a-4621-bb07-e6e8810d7467",
   "metadata": {},
   "outputs": [],
   "source": [
    "# Divido el DataFrame original en un train y un test.\n",
    "df_train, df_test = train_test_split(df_unido, test_size=0.15, shuffle=False)\n",
    "\n",
    "# Vemos los últimos datos del set de entrenamiento:\n",
    "print('Últimos datos del set de entrenamiento:\\n')\n",
    "print(df_train.tail())\n",
    "\n",
    "# Vemos los primeros datos del set de testeo:\n",
    "print('\\nPrimeros datos del set de testeo:\\n')\n",
    "print(df_test.head())"
   ]
  },
  {
   "cell_type": "code",
   "execution_count": null,
   "id": "cbe185fb-ee0d-4941-8b87-b9bbe942a954",
   "metadata": {},
   "outputs": [],
   "source": [
    "# Creo una figura con subplots.\n",
    "fig, axes = plt.subplots(1, 2,figsize=(14,5))\n",
    "\n",
    "# Grafico de la serie original en el primer subplot.\n",
    "axes[0].plot(df_train.Dolar_BNA)\n",
    "axes[0].set_title('Serie original')\n",
    "\n",
    "# Grafico de la ACF en el segundo subplot.\n",
    "plot_acf(df_train.Dolar_BNA, ax=axes[1])\n",
    "\n",
    "plt.show()"
   ]
  },
  {
   "cell_type": "markdown",
   "id": "6fd7df58-5b5d-4db1-a83f-192b0c57f925",
   "metadata": {},
   "source": [
    "Desciende a cero lentamente, por lo tanto la serie de la variable exógena no es estacionaria."
   ]
  },
  {
   "cell_type": "code",
   "execution_count": null,
   "id": "50276b80-6874-4515-9c60-32b1d13e5e9d",
   "metadata": {},
   "outputs": [],
   "source": [
    "# Realizo el ADF Test en la serie de datos 'df.Dolar_BNA' para verificar si realmente no es estacionaria.\n",
    "result = adfuller(df_train['Dolar_BNA'])\n",
    "\n",
    "# Imprimo la estadistica ADF.\n",
    "print('ADF Statistic:', result[0].round(4))\n",
    "\n",
    "# Imprimo el p-value.\n",
    "print('p-value:', result[1].round(4))"
   ]
  },
  {
   "cell_type": "markdown",
   "id": "a7930475-c6ad-4b61-a45d-85a1a029b986",
   "metadata": {},
   "source": [
    "Se observa un p-value > 0.05 para la serie de la variable exógena. Por lo tanto, no es estacionaria.\n",
    "\n",
    "Hay que realizar diferenciación."
   ]
  },
  {
   "cell_type": "code",
   "execution_count": null,
   "id": "66be50f8-53f8-417a-8e6d-db195610eee7",
   "metadata": {},
   "outputs": [],
   "source": [
    "# Realizo el ADF Test en la serie de datos 'df.Dolar_BNA' con la primera diferenciacion.\n",
    "result = adfuller(df_train['Dolar_BNA'].diff().dropna())\n",
    "\n",
    "# Imprimo la estadistica ADF.\n",
    "print('ADF Statistic:', result[0].round(4))\n",
    "\n",
    "# Imprimo el p-value.\n",
    "print('p-value:', result[1].round(4))"
   ]
  },
  {
   "cell_type": "markdown",
   "id": "6abf4f25-fb5d-4c99-8b7f-4021b0c9d07c",
   "metadata": {},
   "source": [
    "Se observa un p-value <= 0.05 para la serie de la variable exógena. Por lo tanto, ya es estacionaria.\n",
    "\n",
    "Además, lo podemos comprobar gráficamente."
   ]
  },
  {
   "cell_type": "code",
   "execution_count": null,
   "id": "3ef9dbbf-ef99-4f74-a63a-1441c999418e",
   "metadata": {},
   "outputs": [],
   "source": [
    "# Creo una figura con subplots.\n",
    "fig, axes = plt.subplots(1, 2,figsize=(14,5))\n",
    "\n",
    "# Grafico de la primera diferenciacion en el primer subplot.\n",
    "axes[0].plot(df_train.Dolar_BNA.diff().dropna())\n",
    "axes[0].set_title('Diferenciación de Primer orden')\n",
    "\n",
    "# Grafico de la ACF de la primera diferenciacion en el segundo subplot.\n",
    "plot_acf(df_train.Dolar_BNA.diff().dropna(), ax=axes[1])\n",
    "\n",
    "# Muestro la figura con los subplots.\n",
    "plt.show()"
   ]
  },
  {
   "cell_type": "markdown",
   "id": "8caaab6f-df39-433c-9dfd-e0e65e64545a",
   "metadata": {},
   "source": [
    "Desciende a cero rápidamente, por lo tanto la serie de la variable exógena ya es estacionaria."
   ]
  },
  {
   "cell_type": "code",
   "execution_count": null,
   "id": "86b5f83f-7f36-4b25-b8c7-67636cee0c67",
   "metadata": {},
   "outputs": [],
   "source": [
    "# Defino el rango de valores para p, d, q, P, D, Q y s.\n",
    "p_values = range(0, 3)\n",
    "d_values = [0]\n",
    "q_values = range(0, 3)\n",
    "P_values = range(0, 3)\n",
    "D_values = range(0, 2)\n",
    "Q_values = range(0, 3)\n",
    "s_values = [12]\n",
    "\n",
    "# Genero todas las combinaciones posibles de valores.\n",
    "parameter_combinations = list(itertools.product(p_values, d_values, q_values, P_values, D_values, Q_values, s_values))\n",
    "\n",
    "# Inicializo variables para almacenar los resultados.\n",
    "best_aic = float('inf')\n",
    "best_params = None\n",
    "\n",
    "# Itero sobre todas las combinaciones de valores.\n",
    "for params in parameter_combinations:\n",
    "    p, d, q, P, D, Q, s = params\n",
    "    var_exog = df_train['Dolar_BNA']  # Agrego las columnas de las variables exogenas.\n",
    "    model = SARIMAX(df_train['Valor_IPC'], exog=var_exog, order=(p, d, q), seasonal_order=(P, D, Q, s))\n",
    "    result = model.fit()\n",
    "    aic = result.aic\n",
    "\n",
    "    # Verifico si el AIC actual es el mejor hasta ahora.\n",
    "    if aic < best_aic:\n",
    "        best_aic = aic\n",
    "        best_params = params\n",
    "\n",
    "    # Imprimo el progreso en porcentaje.\n",
    "    print(round((parameter_combinations.index(params) + 1) / len(parameter_combinations) * 100, 1), '%', end='\\r')\n",
    "\n",
    "# Imprimo el mejor valor de AIC y los correspondientes valores de p, d, q, P, D, Q y s.\n",
    "print(f\"El mejor valor de AIC: {best_aic}\")\n",
    "print(f\"Mejores parámetros: p={best_params[0]}, d={best_params[1]}, q={best_params[2]}, P={best_params[3]}, D={best_params[4]}, Q={best_params[5]}, s={best_params[6]}\")"
   ]
  },
  {
   "cell_type": "code",
   "execution_count": null,
   "id": "a8da1ddf-9fe0-4f15-a48c-013941170cf7",
   "metadata": {},
   "outputs": [],
   "source": [
    "# Creo el modelo SARIMAX con el mejor orden que encontre anteriormente.\n",
    "model_SARIMAX = SARIMAX(df_train['Valor_IPC'],exog=var_exog,order=(best_params[0],best_params[1],best_params[2]),seasonal_order=(best_params[3],best_params[4],best_params[5],best_params[6]))\n",
    "\n",
    "# Ajusto el modelo a los datos.\n",
    "result_SARIMAX = model_SARIMAX.fit()\n",
    "\n",
    "# Obtengo el resumen del modelo.\n",
    "print(result_SARIMAX.summary())"
   ]
  },
  {
   "cell_type": "code",
   "execution_count": null,
   "id": "2720aaf4-bcab-4c56-ba00-406422972a9d",
   "metadata": {},
   "outputs": [],
   "source": [
    "# Creo un DataFrame con los residuos del modelo SARIMAX.\n",
    "residuals_SARIMAX = pd.DataFrame(result_SARIMAX.resid)\n",
    "\n",
    "# Creo una figura para mostrar multiples graficos.\n",
    "fig, axes = plt.subplots(2, 2, figsize=(14, 10))\n",
    "\n",
    "# Grafico los residuos.\n",
    "residuals_SARIMAX.plot(title=\"Residuals\", ax=axes[0, 0])\n",
    "\n",
    "# Grafico la densidad de los residuos.\n",
    "residuals_SARIMAX.plot(kind='kde', title='Density', ax=axes[0, 1])\n",
    "\n",
    "# Grafico la (ACF) de los residuos.\n",
    "plot_acf(residuals_SARIMAX, ax=axes[1, 0], title='ACF')\n",
    "\n",
    "# Grafico la (PACF) de los residuo.\n",
    "plot_pacf(residuals_SARIMAX, ax=axes[1, 1], title='PACF')\n",
    "\n",
    "# Muestro la figura con los graficos de los residuos.\n",
    "plt.show()"
   ]
  },
  {
   "cell_type": "code",
   "execution_count": null,
   "id": "5a31d8c0-572c-4a42-856e-7e00dd76c3b4",
   "metadata": {},
   "outputs": [],
   "source": [
    "# Realizo predicciones utilizando el modelo SARIMAX ajustado con la variable exogena.\n",
    "prediction_SARIMAX = result_SARIMAX.forecast(len(df_test['Valor_IPC']), exog=df_test['Dolar_BNA'])\n",
    "\n",
    "prediction_SARIMAX"
   ]
  },
  {
   "cell_type": "code",
   "execution_count": null,
   "id": "d5e04494-1d10-4c88-b273-f166645dd492",
   "metadata": {},
   "outputs": [],
   "source": [
    "# Creo la figura del grafico.\n",
    "fig = go.Figure()\n",
    "\n",
    "# Agrego una linea de los datos originales al grafico.\n",
    "fig.add_trace(go.Scatter(x=df_modelos.index, y=df_modelos['Valor_IPC'], mode='lines', name='Datos originales', line=dict(color='steelblue')))\n",
    "\n",
    "# Agrego una linea de la prediccion al grafico.\n",
    "fig.add_trace(go.Scatter(x=df_test.index, y=prediction_SARIMAX, mode='lines', name='Predicción', line=dict(color='green')))\n",
    "\n",
    "# Actualizo el disenio del grafico.\n",
    "fig.update_layout(title='Variación mensual del Nivel general del IPC - Total Nacional', xaxis_title='', yaxis_title='Variación mensual')\n",
    "\n",
    "# Muestro el grafico interactivo.\n",
    "fig.show()"
   ]
  },
  {
   "cell_type": "markdown",
   "id": "f9efbee2-5753-4b9f-bb4c-e7323f3f4aeb",
   "metadata": {
    "jp-MarkdownHeadingCollapsed": true,
    "tags": []
   },
   "source": [
    "# 4. Data Mapping"
   ]
  },
  {
   "cell_type": "code",
   "execution_count": null,
   "id": "7935bd44-c7cf-411e-b071-81f0cdeccc86",
   "metadata": {},
   "outputs": [],
   "source": [
    "# Filtro para ver el historico anio por anio. (Indice del IPC)\n",
    "df_historico = df_indices[(df_indices['Fecha'] == '2017-05-01') | (df_indices['Fecha'] == '2018-05-01') | (df_indices['Fecha'] == '2019-05-01') | (df_indices['Fecha'] == '2020-05-01') | (df_indices['Fecha'] == '2021-05-01') | (df_indices['Fecha'] == '2022-05-01') | (df_indices['Fecha'] == '2023-05-01')].copy()\n",
    "\n",
    "df_historico"
   ]
  },
  {
   "cell_type": "code",
   "execution_count": null,
   "id": "fe586040-be63-4a8d-81de-1cb7d96a1270",
   "metadata": {},
   "outputs": [],
   "source": [
    "# Cargo los datos geograficos del INDEC de las regiones estadisticas de Argentina desde el archivo GeoJSON.\n",
    "df_geo = gpd.read_file('../Data/ARG_Regiones_INDEC.geojson')\n",
    "\n",
    "# Filtro los datos por la columna 'Division_IPC'.\n",
    "df_historico = df_historico[df_historico['Division_IPC'] == 'Nivel general']\n",
    "\n",
    "# Uno los datos geograficos y los datos de indice del IPC por region.\n",
    "df_mapeo = df_geo.merge(df_historico, on='Region')\n",
    "\n",
    "# Coordenadas del centro de Argentina.\n",
    "latitud_centro = -34.6037\n",
    "longitud_centro = -58.3816\n",
    "\n",
    "# Creo el grafico con barra de tiempo.\n",
    "fig = px.choropleth(df_mapeo,\n",
    "                    geojson=df_mapeo.geometry,\n",
    "                    locations=df_mapeo.index,\n",
    "                    color='Valor_IPC',\n",
    "                    color_continuous_scale=\"Reds\",\n",
    "                    animation_frame=df_mapeo['Fecha'].dt.strftime('%b %y'),\n",
    "                    title='Variación interanual del Nivel general del IPC por región',\n",
    "                    labels={'Valor_IPC': 'Variación interanual', 'animation_frame': 'Fecha'},\n",
    "                    template='plotly_dark',\n",
    "                    hover_data=['Region'])\n",
    "\n",
    "# Configuro la barra de tiempo y de valores.\n",
    "fig.update_layout(coloraxis_colorbar=dict(x=1.05, len=0.5, yanchor=\"middle\", y=0.5))\n",
    "\n",
    "# Configuro el centro y el zoom del mapa.\n",
    "fig.update_geos(center=dict(lon=longitud_centro, lat=latitud_centro), projection_scale=6, fitbounds=\"locations\")\n",
    "\n",
    "# Configuro el tamanio del mapa.\n",
    "fig.update_layout(height=800, width=1000)\n",
    "\n",
    "# Muestro el grafico.\n",
    "fig.show()"
   ]
  },
  {
   "cell_type": "markdown",
   "id": "7df63fd5-9931-4b68-a9d2-d585fdeaca2a",
   "metadata": {},
   "source": [
    "**Nota:** No correr esta parte del proyecto porque tarda mucho en ejecutarse y se traba todo el código de la notebook."
   ]
  }
 ],
 "metadata": {
  "kernelspec": {
   "display_name": "Python 3 (ipykernel)",
   "language": "python",
   "name": "python3"
  },
  "language_info": {
   "codemirror_mode": {
    "name": "ipython",
    "version": 3
   },
   "file_extension": ".py",
   "mimetype": "text/x-python",
   "name": "python",
   "nbconvert_exporter": "python",
   "pygments_lexer": "ipython3",
   "version": "3.10.9"
  }
 },
 "nbformat": 4,
 "nbformat_minor": 5
}
